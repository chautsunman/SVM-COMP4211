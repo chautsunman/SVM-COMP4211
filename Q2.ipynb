{
 "cells": [
  {
   "cell_type": "code",
   "execution_count": null,
   "metadata": {},
   "outputs": [],
   "source": [
    "import numpy as np"
   ]
  },
  {
   "cell_type": "code",
   "execution_count": null,
   "metadata": {},
   "outputs": [],
   "source": [
    "from sklearn import datasets\n",
    "from sklearn import decomposition\n",
    "\n",
    "iris = datasets.load_iris()\n",
    "X = iris.data[50:150]\n",
    "y = iris.target[50:150]\n",
    "pca = decomposition.PCA(n_components=2)\n",
    "pca.fit(X)\n",
    "X = pca.transform(X)"
   ]
  },
  {
   "cell_type": "code",
   "execution_count": null,
   "metadata": {},
   "outputs": [],
   "source": [
    "import matplotlib.pyplot as plt\n",
    "\n",
    "def plot_svc_decision_function(model):\n",
    "    ax = plt.gca()\n",
    "    \n",
    "    xlim = ax.get_xlim()\n",
    "    ylim = ax.get_ylim()\n",
    "    \n",
    "    x = np.linspace(xlim[0], xlim[1], 30)\n",
    "    y = np.linspace(ylim[0], ylim[1], 30)\n",
    "    Y, X = np.meshgrid(y, x)\n",
    "    xy = np.vstack([X.ravel(), Y.ravel()]).T\n",
    "    P = model.decision_function(xy).reshape(X.shape)\n",
    "    \n",
    "    ax.contour(X, Y, P, levels=[-1, 0, 1], linestyles=['dashed', 'solid', 'dashed'])\n",
    "    \n",
    "    ax.scatter(model.support_vectors_[:, 0], model.support_vectors_[:, 1])\n",
    "    \n",
    "    ax.set_xlim(xlim)\n",
    "    ax.set_ylim(ylim)"
   ]
  },
  {
   "cell_type": "code",
   "execution_count": null,
   "metadata": {},
   "outputs": [],
   "source": [
    "from sklearn.svm import SVC"
   ]
  },
  {
   "cell_type": "code",
   "execution_count": null,
   "metadata": {},
   "outputs": [],
   "source": [
    "clf = SVC(C=1.0, kernel=\"rbf\", gamma=0.1)\n",
    "clf.fit(X, y)\n",
    "plt.scatter(X[:, 0], X[:, 1], c=y)\n",
    "plot_svc_decision_function(clf)"
   ]
  },
  {
   "cell_type": "code",
   "execution_count": null,
   "metadata": {},
   "outputs": [],
   "source": [
    "clf = SVC(C=1.0, kernel=\"rbf\", gamma=10.0)\n",
    "clf.fit(X, y)\n",
    "plt.scatter(X[:, 0], X[:, 1], c=y)\n",
    "plot_svc_decision_function(clf)"
   ]
  },
  {
   "cell_type": "code",
   "execution_count": null,
   "metadata": {},
   "outputs": [],
   "source": [
    "clf = SVC(C=0.1, kernel=\"rbf\", gamma=1.0)\n",
    "clf.fit(X, y)\n",
    "plt.scatter(X[:, 0], X[:, 1], c=y)\n",
    "plot_svc_decision_function(clf)"
   ]
  },
  {
   "cell_type": "code",
   "execution_count": null,
   "metadata": {},
   "outputs": [],
   "source": [
    "clf = SVC(C=10, kernel=\"rbf\", gamma=1.0)\n",
    "clf.fit(X, y)\n",
    "plt.scatter(X[:, 0], X[:, 1], c=y)\n",
    "plot_svc_decision_function(clf)"
   ]
  },
  {
   "cell_type": "code",
   "execution_count": null,
   "metadata": {},
   "outputs": [],
   "source": [
    "from sklearn.model_selection import KFold\n",
    "\n",
    "K = 5\n",
    "\n",
    "C = [0.1, 0.5, 1, 5, 10]\n",
    "SIGMA = [0.1, 0.5, 1, 5, 10]\n",
    "\n",
    "kf = KFold(n_splits=K)\n",
    "\n",
    "train_accuracies = np.zeros((len(C) * len(SIGMA), K))\n",
    "test_accuracies = np.zeros((len(C) * len(SIGMA), K))\n",
    "clfs = np.empty(25, dtype=SVC)\n",
    "\n",
    "i = 0\n",
    "\n",
    "for c in C:\n",
    "    for sigma in SIGMA:\n",
    "        j = 0\n",
    "        \n",
    "        for train_index, test_index in kf.split(X):\n",
    "            clf = SVC(C=c, kernel=\"rbf\", gamma=sigma)\n",
    "            \n",
    "            clf.fit(X[train_index], y[train_index])\n",
    "            \n",
    "            train_accuracies[i][j] = clf.score(X[train_index], y[train_index])\n",
    "            test_accuracies[i][j] = clf.score(X[test_index], y[test_index])\n",
    "            \n",
    "            clfs[i] = clf\n",
    "            \n",
    "            j += 1\n",
    "        \n",
    "        i += 1\n",
    "\n",
    "train_mean_accuracies = train_accuracies.mean(axis=1)\n",
    "test_mean_accuracies = test_accuracies.mean(axis=1)\n",
    "\n",
    "best_train_clf = clfs[train_mean_accuracies.argmax()]\n",
    "best_test_clf = clfs[test_mean_accuracies.argmax()]\n",
    "\n",
    "plt.figure()\n",
    "plt.scatter(X[:, 0], X[:, 1], c=y)\n",
    "plot_svc_decision_function(best_train_clf)\n",
    "plt.title(\n",
    "    \"C = \" + str(best_train_clf.C) +\n",
    "    \", sigma = \" + str(best_train_clf.gamma) +\n",
    "    \", whole dataset accuracy = \" + str(best_train_clf.score(X, y))\n",
    ")\n",
    "\n",
    "plt.figure()\n",
    "plt.scatter(X[:, 0], X[:, 1], c=y)\n",
    "plot_svc_decision_function(best_test_clf)\n",
    "plt.title(\n",
    "    \"C = \" + str(best_test_clf.C) +\n",
    "    \", sigma = \" + str(best_test_clf.gamma) +\n",
    "    \", whole dataset accuracy = \" + str(best_test_clf.score(X, y))\n",
    ")"
   ]
  },
  {
   "cell_type": "code",
   "execution_count": null,
   "metadata": {},
   "outputs": [],
   "source": []
  }
 ],
 "metadata": {
  "kernelspec": {
   "display_name": "Python 3.6",
   "language": "python",
   "name": "python36"
  },
  "language_info": {
   "codemirror_mode": {
    "name": "ipython",
    "version": 3
   },
   "file_extension": ".py",
   "mimetype": "text/x-python",
   "name": "python",
   "nbconvert_exporter": "python",
   "pygments_lexer": "ipython3",
   "version": "3.6.3"
  }
 },
 "nbformat": 4,
 "nbformat_minor": 2
}
